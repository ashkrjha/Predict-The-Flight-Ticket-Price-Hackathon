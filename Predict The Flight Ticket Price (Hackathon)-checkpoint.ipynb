{
 "cells": [
  {
   "cell_type": "code",
   "execution_count": 12,
   "metadata": {},
   "outputs": [],
   "source": [
    "import pandas as pd"
   ]
  },
  {
   "cell_type": "code",
   "execution_count": 13,
   "metadata": {},
   "outputs": [],
   "source": [
    "training_set = pd.read_excel(r\"~/Ashutosh/Internship Mini Project/Second/Predict-The-Flight-Ticket-Price-Hackathon/Data_Train.xlsx\")"
   ]
  },
  {
   "cell_type": "code",
   "execution_count": 14,
   "metadata": {},
   "outputs": [],
   "source": [
    "test_set = pd.read_excel(r\"~/Ashutosh/Internship Mini Project/Second/Predict-The-Flight-Ticket-Price-Hackathon/Test_set.xlsx\")"
   ]
  },
  {
   "cell_type": "code",
   "execution_count": 15,
   "metadata": {},
   "outputs": [],
   "source": [
    "training_set = training_set.dropna()"
   ]
  },
  {
   "cell_type": "code",
   "execution_count": 16,
   "metadata": {},
   "outputs": [],
   "source": [
    "training_set['Journey_Day'] = pd.to_datetime(training_set.Date_of_Journey, format='%d/%m/%Y').dt.day\n",
    "training_set['Journey_Month'] = pd.to_datetime(training_set.Date_of_Journey, format='%d/%m/%Y').dt.month\n",
    "test_set['Journey_Day'] = pd.to_datetime(test_set.Date_of_Journey, format='%d/%m/%Y').dt.day\n",
    "test_set['Journey_Month'] = pd.to_datetime(test_set.Date_of_Journey, format='%d/%m/%Y').dt.month\n",
    "training_set.drop(labels = 'Date_of_Journey', axis = 1, inplace = True)\n",
    "test_set.drop(labels = 'Date_of_Journey', axis = 1, inplace = True)"
   ]
  },
  {
   "cell_type": "code",
   "execution_count": 17,
   "metadata": {},
   "outputs": [],
   "source": [
    "duration = list(training_set['Duration'])\n",
    "for i in range(len(duration)) :\n",
    "    if len(duration[i].split()) != 2:\n",
    "        if 'h' in duration[i] :\n",
    "            duration[i] = duration[i].strip() + ' 0m'\n",
    "        elif 'm' in duration[i] :\n",
    "            duration[i] = '0h {}'.format(duration[i].strip())\n",
    "dur_hours = []\n",
    "dur_minutes = []  \n",
    "for i in range(len(duration)) :\n",
    "    dur_hours.append(int(duration[i].split()[0][:-1]))\n",
    "    dur_minutes.append(int(duration[i].split()[1][:-1]))\n",
    "training_set['Duration_hours'] = dur_hours\n",
    "training_set['Duration_minutes'] =dur_minutes\n",
    "training_set.drop(labels = 'Duration', axis = 1, inplace = True)"
   ]
  },
  {
   "cell_type": "code",
   "execution_count": 18,
   "metadata": {},
   "outputs": [],
   "source": [
    "durationT = list(test_set['Duration'])\n",
    "for i in range(len(durationT)) :\n",
    "    if len(durationT[i].split()) != 2:\n",
    "        if 'h' in durationT[i] :\n",
    "            durationT[i] = durationT[i].strip() + ' 0m'\n",
    "        elif 'm' in durationT[i] :\n",
    "            durationT[i] = '0h {}'.format(durationT[i].strip())\n",
    "            \n",
    "dur_hours = []\n",
    "dur_minutes = []  \n",
    "\n",
    "for i in range(len(durationT)) :\n",
    "    dur_hours.append(int(durationT[i].split()[0][:-1]))\n",
    "    dur_minutes.append(int(durationT[i].split()[1][:-1]))\n",
    "  \n",
    "    \n",
    "test_set['Duration_hours'] = dur_hours\n",
    "test_set['Duration_minutes'] = dur_minutes\n",
    "\n",
    "test_set.drop(labels = 'Duration', axis = 1, inplace = True)"
   ]
  },
  {
   "cell_type": "code",
   "execution_count": 19,
   "metadata": {},
   "outputs": [],
   "source": [
    "training_set['Depart_Time_Hour'] = pd.to_datetime(training_set.Dep_Time).dt.hour\n",
    "training_set['Depart_Time_Minutes'] = pd.to_datetime(training_set.Dep_Time).dt.minute\n",
    "training_set.drop(labels = 'Dep_Time', axis = 1, inplace = True)\n",
    "training_set['Arr_Time_Hour'] = pd.to_datetime(training_set.Arrival_Time).dt.hour\n",
    "training_set['Arr_Time_Minutes'] = pd.to_datetime(training_set.Arrival_Time).dt.minute\n",
    "training_set.drop(labels = 'Arrival_Time', axis = 1, inplace = True)"
   ]
  },
  {
   "cell_type": "code",
   "execution_count": 20,
   "metadata": {},
   "outputs": [],
   "source": [
    "test_set['Depart_Time_Hour'] = pd.to_datetime(test_set.Dep_Time).dt.hour\n",
    "test_set['Depart_Time_Minutes'] = pd.to_datetime(test_set.Dep_Time).dt.minute\n",
    "test_set.drop(labels = 'Dep_Time', axis = 1, inplace = True)\n",
    "test_set['Arr_Time_Hour'] = pd.to_datetime(test_set.Arrival_Time).dt.hour\n",
    "test_set['Arr_Time_Minutes'] = pd.to_datetime(test_set.Arrival_Time).dt.minute\n",
    "test_set.drop(labels = 'Arrival_Time', axis = 1, inplace = True)"
   ]
  },
  {
   "cell_type": "code",
   "execution_count": 21,
   "metadata": {},
   "outputs": [],
   "source": [
    "# Dependent Variable\n",
    "Y_train = training_set.iloc[:,6].values  # 6 is the index of \"Price\" in the Training Set \n",
    "# Independent Variables\n",
    "X_train = training_set.iloc[:,training_set.columns != 'Price'].values # selects all columns except \"Price\"\n",
    "# Independent Variables for Test Set\n",
    "X_test = test_set.iloc[:,:].values"
   ]
  },
  {
   "cell_type": "code",
   "execution_count": 22,
   "metadata": {},
   "outputs": [],
   "source": [
    "from sklearn.preprocessing import LabelEncoder\n",
    "\n",
    "le1 = LabelEncoder()\n",
    "le2 = LabelEncoder()"
   ]
  },
  {
   "cell_type": "code",
   "execution_count": 23,
   "metadata": {},
   "outputs": [],
   "source": [
    "X_train[:,0] = le1.fit_transform(X_train[:,0])\n",
    "X_train[:,1] = le1.fit_transform(X_train[:,1])\n",
    "X_train[:,2] = le1.fit_transform(X_train[:,2])\n",
    "X_train[:,3] = le1.fit_transform(X_train[:,3])\n",
    "X_train[:,4] = le1.fit_transform(X_train[:,4])\n",
    "X_train[:,5] = le1.fit_transform(X_train[:,5])"
   ]
  },
  {
   "cell_type": "code",
   "execution_count": 24,
   "metadata": {},
   "outputs": [],
   "source": [
    "X_test[:,0] = le2.fit_transform(X_test[:,0])\n",
    "X_test[:,1] = le2.fit_transform(X_test[:,1])\n",
    "X_test[:,2] = le2.fit_transform(X_test[:,2])\n",
    "X_test[:,3] = le2.fit_transform(X_test[:,3])\n",
    "X_test[:,4] = le2.fit_transform(X_test[:,4])\n",
    "X_test[:,5] = le2.fit_transform(X_test[:,5])"
   ]
  },
  {
   "cell_type": "code",
   "execution_count": 25,
   "metadata": {},
   "outputs": [
    {
     "name": "stdout",
     "output_type": "stream",
     "text": [
      "  0  1  2    3  4  5   6  7   8   9   10  11  12  13\n",
      "0  3  0  5   18  4  8  24  3   2  50  22  20   1  10\n",
      "1  1  3  0   84  1  8   1  5   7  25   5  50  13  15\n",
      "2  4  2  1  118  1  8   9  6  19   0   9  25   4  25\n",
      "3  3  3  0   91  0  8  12  5   5  25  18   5  23  30\n",
      "4  3  0  5   29  0  8   1  3   4  45  16  50  21  35\n"
     ]
    }
   ],
   "source": [
    "print(pd.DataFrame(X_train).head())"
   ]
  },
  {
   "cell_type": "code",
   "execution_count": 26,
   "metadata": {},
   "outputs": [],
   "source": [
    "# Feature Scaling\n",
    "\n",
    "from sklearn.preprocessing import StandardScaler\n",
    "\n",
    "sc_X = StandardScaler()\n",
    "\n",
    "X_train = sc_X.fit_transform(X_train)\n",
    "\n",
    "X_test = sc_X.transform(X_test)\n",
    "\n",
    "#sc_y = StandardScaler()\n",
    "\n",
    "Y_train = Y_train.reshape((len(Y_train), 1)) \n",
    "\n",
    "Y_train = sc_X.fit_transform(Y_train)\n",
    "\n",
    "Y_train = Y_train.ravel()"
   ]
  },
  {
   "cell_type": "code",
   "execution_count": 27,
   "metadata": {},
   "outputs": [
    {
     "name": "stdout",
     "output_type": "stream",
     "text": [
      "         0         1         2         3         4         5         6   \\\n",
      "0 -0.410805 -1.658359  2.416534 -1.547082  1.407210  0.499921  1.237288   \n",
      "1 -1.261152  0.890014 -0.973812  0.249946 -0.253703  0.499921 -1.475307   \n",
      "2  0.014369  0.040556 -0.295743  1.175687 -0.253703  0.499921 -0.531796   \n",
      "3 -0.410805  0.890014 -0.973812  0.440539 -0.807341  0.499921 -0.177979   \n",
      "4 -0.410805 -1.658359  2.416534 -1.247577 -0.807341  0.499921 -1.475307   \n",
      "\n",
      "         7         8         9         10        11        12        13  \n",
      "0 -1.467402 -0.970614  1.279041  1.654154 -0.234950 -1.800436 -0.890014  \n",
      "1  0.250289 -0.381999 -0.196319 -1.303113  1.363607 -0.050909 -0.587094  \n",
      "2  1.109135  1.030677 -1.671678 -0.607286  0.031476 -1.363054  0.018745  \n",
      "3  0.250289 -0.617445 -0.196319  0.958326 -1.034229  1.407030  0.321664  \n",
      "4 -1.467402 -0.735168  0.983969  0.610412  1.363607  1.115442  0.624584  \n"
     ]
    }
   ],
   "source": [
    "print(pd.DataFrame(X_train).head()) # Xtrain after scaling"
   ]
  },
  {
   "cell_type": "code",
   "execution_count": 28,
   "metadata": {},
   "outputs": [
    {
     "name": "stdout",
     "output_type": "stream",
     "text": [
      "          0\n",
      "0 -1.125535\n",
      "1 -0.309068\n",
      "2  1.039783\n",
      "3 -0.622209\n",
      "4  0.914006\n"
     ]
    }
   ],
   "source": [
    "print(pd.DataFrame(Y_train).head())"
   ]
  },
  {
   "cell_type": "code",
   "execution_count": 29,
   "metadata": {},
   "outputs": [],
   "source": [
    "from sklearn.svm import SVR\n",
    "\n",
    "svr = SVR(kernel = \"rbf\")\n",
    "\n",
    "svr.fit(X_train,Y_train)\n",
    "\n",
    "Y_pred = sc_X.inverse_transform(svr.predict(X_test))"
   ]
  },
  {
   "cell_type": "code",
   "execution_count": 30,
   "metadata": {},
   "outputs": [],
   "source": [
    "pd.DataFrame(Y_pred, columns = ['Price']).to_excel(\"Final_Pred.xlsx\", index = False)"
   ]
  },
  {
   "cell_type": "code",
   "execution_count": 31,
   "metadata": {},
   "outputs": [
    {
     "name": "stdout",
     "output_type": "stream",
     "text": [
      "              0\n",
      "0  10547.002077\n",
      "1   6773.635780\n",
      "2  11482.732670\n",
      "3  11281.247128\n",
      "4   4379.175423\n"
     ]
    }
   ],
   "source": [
    "print(pd.DataFrame(Y_pred).head())"
   ]
  }
 ],
 "metadata": {
  "kernelspec": {
   "display_name": "Python 3",
   "language": "python",
   "name": "python3"
  },
  "language_info": {
   "codemirror_mode": {
    "name": "ipython",
    "version": 3
   },
   "file_extension": ".py",
   "mimetype": "text/x-python",
   "name": "python",
   "nbconvert_exporter": "python",
   "pygments_lexer": "ipython3",
   "version": "3.8.8"
  }
 },
 "nbformat": 4,
 "nbformat_minor": 2
}
